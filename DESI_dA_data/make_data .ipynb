{
 "cells": [
  {
   "cell_type": "code",
   "execution_count": 5,
   "metadata": {},
   "outputs": [],
   "source": [
    "import pyccl as ccl\n",
    "import numpy as np"
   ]
  },
  {
   "cell_type": "code",
   "execution_count": 6,
   "metadata": {},
   "outputs": [],
   "source": [
    "rels_dA  = [2.78, 1.87, 1.45, 1.19, 1.01, 0.87, 0.77, \n",
    "         0.76, 0.88, 0.91, 0.91, 0.91, 1.00, 1.17, \n",
    "         1.50, 2.36, 3.62, 4.79]\n",
    "rels_H = [5.34, 3.51, 2.69, 2.20, 1.85, 1.60, 1.41, \n",
    "         1.35, 1.42, 1.41, 1.38, 1.36, 1.46, 1.66, \n",
    "         2.04, 3.15, 4.87, 6.55]"
   ]
  },
  {
   "cell_type": "code",
   "execution_count": 9,
   "metadata": {},
   "outputs": [],
   "source": [
    "params = {'h': 0.782,  #0.67\n",
    "        'Omega_cdm': 0.231, #0.272, #0.27\n",
    "        'Omega_b': 0.0222, #0.045,\n",
    "        'n_s': 0.815, #0.96\n",
    "        'Omega_Lambda': 0,\n",
    "        'w0_fld': -0.969, # -1\n",
    "        'wa_fld': -0.979} # 0}\n",
    "\n"
   ]
  },
  {
   "cell_type": "code",
   "execution_count": 10,
   "metadata": {},
   "outputs": [],
   "source": [
    "#cosmo_ccl = ccl.Cosmology(param_dict)\n",
    "classy = ccl.boltzmann.classy.Class()\n",
    "classy.set(params)\n",
    "classy.compute()"
   ]
  },
  {
   "cell_type": "code",
   "execution_count": 11,
   "metadata": {},
   "outputs": [],
   "source": [
    "z_arr = np.arange(0.15, 1.85+0.1, 0.1)"
   ]
  },
  {
   "cell_type": "code",
   "execution_count": 12,
   "metadata": {},
   "outputs": [],
   "source": [
    "dA_arr = np.array([])\n",
    "H_arr = np.array([])\n",
    "for z in z_arr: \n",
    "            dA = classy.angular_distance(z)/classy.rs_drag()\n",
    "            H = classy.Hubble(z)*classy.rs_drag()\n",
    "            dA_arr = np.append(dA_arr, dA)\n",
    "            H_arr = np.append(H_arr, H) "
   ]
  },
  {
   "cell_type": "code",
   "execution_count": 13,
   "metadata": {},
   "outputs": [],
   "source": [
    "sig_dA = rels_dA*dA_arr/100\n",
    "sig_H = rels_H*H_arr/100"
   ]
  },
  {
   "cell_type": "code",
   "execution_count": 14,
   "metadata": {},
   "outputs": [],
   "source": [
    "data = np.append(dA_arr, H_arr)"
   ]
  },
  {
   "cell_type": "code",
   "execution_count": 15,
   "metadata": {},
   "outputs": [
    {
     "data": {
      "text/plain": [
       "array([ 3.19166482,  4.80508328,  6.11554196,  7.18409571,  8.05545648,\n",
       "        8.76390403,  9.33670558,  9.79612151, 10.16061813, 10.4456444 ,\n",
       "       10.6641709 , 10.82709613, 10.94357323, 11.02128294, 11.06666567,\n",
       "       11.08511938, 11.08116801, 11.05860407,  0.04203398,  0.04361121,\n",
       "        0.04533441,  0.04726984,  0.04945406,  0.05190238,  0.05461567,\n",
       "        0.05758573,  0.06079921,  0.0642404 ,  0.06789298,  0.07174117,\n",
       "        0.07577031,  0.07996709,  0.08431968,  0.08881763,  0.09345182,\n",
       "        0.09821423])"
      ]
     },
     "execution_count": 15,
     "metadata": {},
     "output_type": "execute_result"
    }
   ],
   "source": [
    "data"
   ]
  },
  {
   "cell_type": "code",
   "execution_count": 16,
   "metadata": {},
   "outputs": [],
   "source": [
    "sig = np.append(sig_dA, sig_H)"
   ]
  },
  {
   "cell_type": "code",
   "execution_count": 17,
   "metadata": {},
   "outputs": [],
   "source": [
    "cov = np.zeros([2*len(z_arr), 2*len(z_arr)])"
   ]
  },
  {
   "cell_type": "code",
   "execution_count": 18,
   "metadata": {},
   "outputs": [],
   "source": [
    "for i in np.arange(2*len(z_arr)):\n",
    "    cov[i,i] = sig[i]**2"
   ]
  },
  {
   "cell_type": "code",
   "execution_count": 19,
   "metadata": {},
   "outputs": [
    {
     "data": {
      "text/plain": [
       "array([[7.87270804e-03, 0.00000000e+00, 0.00000000e+00, ...,\n",
       "        0.00000000e+00, 0.00000000e+00, 0.00000000e+00],\n",
       "       [0.00000000e+00, 8.07393133e-03, 0.00000000e+00, ...,\n",
       "        0.00000000e+00, 0.00000000e+00, 0.00000000e+00],\n",
       "       [0.00000000e+00, 0.00000000e+00, 7.86331919e-03, ...,\n",
       "        0.00000000e+00, 0.00000000e+00, 0.00000000e+00],\n",
       "       ...,\n",
       "       [0.00000000e+00, 0.00000000e+00, 0.00000000e+00, ...,\n",
       "        7.82743582e-06, 0.00000000e+00, 0.00000000e+00],\n",
       "       [0.00000000e+00, 0.00000000e+00, 0.00000000e+00, ...,\n",
       "        0.00000000e+00, 2.07125424e-05, 0.00000000e+00],\n",
       "       [0.00000000e+00, 0.00000000e+00, 0.00000000e+00, ...,\n",
       "        0.00000000e+00, 0.00000000e+00, 4.13839046e-05]])"
      ]
     },
     "execution_count": 19,
     "metadata": {},
     "output_type": "execute_result"
    }
   ],
   "source": [
    "cov"
   ]
  },
  {
   "cell_type": "code",
   "execution_count": null,
   "metadata": {},
   "outputs": [],
   "source": []
  }
 ],
 "metadata": {
  "kernelspec": {
   "display_name": "Python 3",
   "language": "python",
   "name": "python3"
  },
  "language_info": {
   "codemirror_mode": {
    "name": "ipython",
    "version": 3
   },
   "file_extension": ".py",
   "mimetype": "text/x-python",
   "name": "python",
   "nbconvert_exporter": "python",
   "pygments_lexer": "ipython3",
   "version": "3.8.5"
  }
 },
 "nbformat": 4,
 "nbformat_minor": 4
}
